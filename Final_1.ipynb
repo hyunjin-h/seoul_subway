{
 "cells": [
  {
   "cell_type": "code",
   "execution_count": null,
   "metadata": {},
   "outputs": [],
   "source": []
  },
  {
   "cell_type": "markdown",
   "metadata": {},
   "source": [
    "# DACON - 6조\n",
    "\n",
    "## 주제  \n",
    "**<font color=#5F71F7> '노년층의 지하철 이용 현황 분석 및 여러 제안에 의한 우대권 혜택 축소에 따른 서울시 교통 혼잡 개선과 운임 기회비용 개선 효과 분석' </font>**\n",
    "\n",
    "## 개요 \n",
    "  ### 1. 현황 분석 및 현재 문제 해결의 중요성\n",
    "  ### 2. 대안 제시 및 검증, 분석\n",
    "  ### 3. 대안의 예측 결과 또는 예상 효과 파악\n",
    "  ### 4. 결론\n",
    "\n",
    "---\n",
    "\n",
    "각주 처리 방법\n",
    "\n",
    "이런식으로 주석을 달 수 있다.<sup>[1](#footnote_1)</sup>\n",
    "\n",
    "<!-- 글 뒷 부분에 -->\n",
    "<a name=\"footnote_1\">1</a>: 주석에 관한 설명을 이곳에...\n",
    "\n",
    "https://www.etoday.co.kr/news/view/2171664"
   ]
  },
  {
   "cell_type": "markdown",
   "metadata": {},
   "source": [
    "## 서론\n",
    " 현재 무임승차로 인한 재정적 문제가 점점 커지고 있다.<sup>[[1](https://www.etoday.co.kr/news/view/2171664)]</sup>\n",
    "\n",
    "\n",
    "###### <a>[1 ](https://www.etoday.co.kr/news/view/2171664)</a>: 정대한. (2022년09월12일). 도시철도 무임승차로 지난해 4717억 원 손실…\"국고 지원 필요\". 이투데이. pp.All"
   ]
  },
  {
   "cell_type": "markdown",
   "metadata": {},
   "source": []
  },
  {
   "cell_type": "code",
   "execution_count": null,
   "metadata": {},
   "outputs": [],
   "source": []
  }
 ],
 "metadata": {
  "kernelspec": {
   "display_name": "Python 3.7.14 64-bit",
   "language": "python",
   "name": "python3"
  },
  "language_info": {
   "name": "python",
   "version": "3.7.14"
  },
  "orig_nbformat": 4,
  "vscode": {
   "interpreter": {
    "hash": "31f2aee4e71d21fbe5cf8b01ff0e069b9275f58929596ceb00d14d90e3e16cd6"
   }
  }
 },
 "nbformat": 4,
 "nbformat_minor": 2
}
