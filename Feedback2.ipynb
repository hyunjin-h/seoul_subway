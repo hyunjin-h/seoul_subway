{
  "nbformat": 4,
  "nbformat_minor": 0,
  "metadata": {
    "colab": {
      "provenance": [],
      "authorship_tag": "ABX9TyNNNKDfGXbGaOXw6a3xqWqR",
      "include_colab_link": true
    },
    "kernelspec": {
      "name": "python3",
      "display_name": "Python 3"
    },
    "language_info": {
      "name": "python"
    }
  },
  "cells": [
    {
      "cell_type": "markdown",
      "metadata": {
        "id": "view-in-github",
        "colab_type": "text"
      },
      "source": [
        "<a href=\"https://colab.research.google.com/github/lg960214/DACON_Seoul_6/blob/develop/Feedback2.ipynb\" target=\"_parent\"><img src=\"https://colab.research.google.com/assets/colab-badge.svg\" alt=\"Open In Colab\"/></a>"
      ]
    },
    {
      "cell_type": "code",
      "execution_count": null,
      "metadata": {
        "id": "u7NoRAY792Qg"
      },
      "outputs": [],
      "source": [
        "# 현재 저희가 확보한 데이터들입니다.\n",
        "# 개별 역 정보 - 역별 승차/하차자 수\n",
        "# 탑승인원 정보 - 호선별/일자별/시간별/월별/년별/일반&우대권 승차, 하차 인원수 데이터\n",
        "# 환승관련 정보 - 버스->지하철 등 환승루트별 이용자 데이터. 일반 카드와 경로우대권 사용량 구별 가능\n",
        "# 지역관련 정보 - 지역내의 생활 이동량 연령별 데이터, 거주인원 연령별 데이터\n",
        "# 카드 데이터 - 교통카드 번호를 PK삼아 탑승시간,하차시간,이동거리,환승횟수,탑승역,하차역 데이터. 대신 개인 표적화가 가능한 개인정보는 일절 없음.\n",
        "# 2015년 ~ 2022년까지 일별 데이터 확보. \n",
        "#"
      ]
    },
    {
      "cell_type": "code",
      "source": [
        "# 첫 피드백 감사합니다. 주신 패키지들의 파악은 되었고 현재 이것저것 시각화 해보는 중입니다. \n",
        "# 주신 피드백을 바탕으로 긴 회의끝에 큰 틀은 유지하되 방향을 아예 전면개편하였습니다.\n",
        "# 그럴듯한 학습모델을 세워보고 싶었지만 말씀하신대로, 동별로는 오차나 정치적으로 민감한 결론이 나올 위험이 크고 교통수단 이용하는 고객의 개인정보를 포함한 개별 데이터를 결국 확보하는데 실패했습니다."
      ],
      "metadata": {
        "id": "oMJvl1dbAGus"
      },
      "execution_count": null,
      "outputs": []
    },
    {
      "cell_type": "markdown",
      "source": [],
      "metadata": {
        "id": "R5zbAPKc97z6"
      }
    },
    {
      "cell_type": "code",
      "source": [
        "# 새 주제 - \n",
        "# 문제의식 : 지하철 교통 혼잡 그리고 날로 늘어가는 우대권 지원금으로 인한 서울시 부담 증가\n",
        "\n",
        "# 시각화 기반 보여주기 : 출퇴근 시간대 일반 탑승객의 이용 밀도와 노년층 밀도의 비교, 이용 행태 시각화\n",
        "# 성별/ 계절별/ 시간별 분포도 등 현재 상황을 한눈에 파악하기 쉽게 시각화\n",
        "# 그외 2023년 우대권 사용예상량 시계열분석등을 통한 문제와 상황 제기\n",
        "\n",
        "# 주제 : 노년층 교통 보조금(우대권) 관련 제안들의 검증과 예상 효과\n",
        "\n",
        "# 방식 : 약 4~6가지의 대안들을 대상으로 우대권 혜택을 줄였을때 1. 교통혼잡도 개선 효과 2. 무임승차자 감소로 인한 예산 절감효과\n",
        "# 두가지 지표를 메인으로 어떠한 대안이 효과적일지 비교 분석해보는 프로젝트로 수정하였습니다.\n",
        "# 1과 2를 합쳐 최종 평가지표를 만들어 순위를 매길것이며 평가지표는 논의할 예정입니다"
      ],
      "metadata": {
        "id": "LjI0Jb_RAPZZ"
      },
      "execution_count": null,
      "outputs": []
    },
    {
      "cell_type": "code",
      "source": [
        "# 대안의 예시\n",
        "# 모든 시간대 50% 할인으로 변경\n",
        "# 출퇴근 시간 등 번잡시간대 할인 제외\n",
        "# 번잡시간대 번잡 역만 할인에서 제외\n",
        "# 우대권 이용 연령 상향\n",
        "# 할인율 혼합형(번잡시간대 50%, 기타 30% 등)"
      ],
      "metadata": {
        "id": "zENtZhxAAOA1"
      },
      "execution_count": null,
      "outputs": []
    },
    {
      "cell_type": "markdown",
      "source": [],
      "metadata": {
        "id": "855cCs8yD-rn"
      }
    },
    {
      "cell_type": "code",
      "source": [
        "# 예상 결론 : 대안 a 가 종합적으로 볼때 가장 서울시민의 교통 편의성 증대 효과가 크고 대안 b는 금전적 절약효과는 크나 어떠한 한계가 있고...\n",
        "# 같은 식으로 나오지 않을까 예상하고 있습니다."
      ],
      "metadata": {
        "id": "AKqDzQQCAP7i"
      },
      "execution_count": null,
      "outputs": []
    },
    {
      "cell_type": "code",
      "source": [
        "# 피드백 요청 사안\n",
        "# 당연히 논문을 다수 읽고 뉴스등을 참고해서 저희만의 평가지표를 세우고 계산할 예정입니다만\n",
        "# 대안의 몇 퍼센트 할인시 감소할 이용량에 대한 기준을 세울때 주의할 점이 있을까요?\n",
        "# 또한 개인적으로 독창성에서는 다소 아쉬운 점이 있다고 생각합니다만 혹시 그것을 보충할만한 제안이 있으시다면 꼭 들어보고 싶습니다.\n",
        "# 시각화 자료가 많아 일부는 gif 형식으로 합칠까도 고려하고있습니다만, 과제 제출시에 쥬피터 파일로만 제출한다면 외부편집 이미지를 제출해도 될까요?"
      ],
      "metadata": {
        "id": "_zyiL47zAPrW"
      },
      "execution_count": null,
      "outputs": []
    },
    {
      "cell_type": "code",
      "source": [],
      "metadata": {
        "id": "II0oZ6v--5jo"
      },
      "execution_count": null,
      "outputs": []
    }
  ]
}