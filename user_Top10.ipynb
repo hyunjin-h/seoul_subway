{
  "nbformat": 4,
  "nbformat_minor": 0,
  "metadata": {
    "colab": {
      "provenance": [],
      "authorship_tag": "ABX9TyPUusxYnnpzc5xAVUPLvVGP",
      "include_colab_link": true
    },
    "kernelspec": {
      "name": "python3",
      "display_name": "Python 3"
    },
    "language_info": {
      "name": "python"
    }
  },
  "cells": [
    {
      "cell_type": "markdown",
      "metadata": {
        "id": "view-in-github",
        "colab_type": "text"
      },
      "source": [
        "<a href=\"https://colab.research.google.com/github/lg960214/DACON_Seoul_6/blob/feat%2Fhhj/user_Top10.ipynb\" target=\"_parent\"><img src=\"https://colab.research.google.com/assets/colab-badge.svg\" alt=\"Open In Colab\"/></a>"
      ]
    },
    {
      "cell_type": "code",
      "source": [
        "from google.colab import drive\n",
        "drive.mount('/content/drive')"
      ],
      "metadata": {
        "colab": {
          "base_uri": "https://localhost:8080/"
        },
        "id": "_A9hOm92Y0wp",
        "outputId": "d1524d1f-85a9-4ee2-c41d-db8c43c50964"
      },
      "execution_count": 1,
      "outputs": [
        {
          "output_type": "stream",
          "name": "stdout",
          "text": [
            "Drive already mounted at /content/drive; to attempt to forcibly remount, call drive.mount(\"/content/drive\", force_remount=True).\n"
          ]
        }
      ]
    },
    {
      "cell_type": "code",
      "source": [
        "#matplotlib 한글깨짐방지\n",
        "!sudo apt-get install -y fonts-nanum\n",
        "!sudo fc-cache -fv\n",
        "!rm ~/.cache/matplotlib -rf"
      ],
      "metadata": {
        "colab": {
          "base_uri": "https://localhost:8080/"
        },
        "id": "wkMdIm_tmxZd",
        "outputId": "fd7e78ca-5d87-48fd-e6ba-a602595c4d13"
      },
      "execution_count": 28,
      "outputs": [
        {
          "output_type": "stream",
          "name": "stdout",
          "text": [
            "Reading package lists... Done\n",
            "Building dependency tree       \n",
            "Reading state information... Done\n",
            "fonts-nanum is already the newest version (20170925-1).\n",
            "The following package was automatically installed and is no longer required:\n",
            "  libnvidia-common-460\n",
            "Use 'sudo apt autoremove' to remove it.\n",
            "0 upgraded, 0 newly installed, 0 to remove and 12 not upgraded.\n",
            "/usr/share/fonts: caching, new cache contents: 0 fonts, 1 dirs\n",
            "/usr/share/fonts/truetype: caching, new cache contents: 0 fonts, 3 dirs\n",
            "/usr/share/fonts/truetype/humor-sans: caching, new cache contents: 1 fonts, 0 dirs\n",
            "/usr/share/fonts/truetype/liberation: caching, new cache contents: 16 fonts, 0 dirs\n",
            "/usr/share/fonts/truetype/nanum: caching, new cache contents: 10 fonts, 0 dirs\n",
            "/usr/local/share/fonts: caching, new cache contents: 0 fonts, 0 dirs\n",
            "/root/.local/share/fonts: skipping, no such directory\n",
            "/root/.fonts: skipping, no such directory\n",
            "/var/cache/fontconfig: cleaning cache directory\n",
            "/root/.cache/fontconfig: not cleaning non-existent cache directory\n",
            "/root/.fontconfig: not cleaning non-existent cache directory\n",
            "fc-cache: succeeded\n"
          ]
        }
      ]
    },
    {
      "cell_type": "code",
      "source": [
        "#xls 읽기 위해\n",
        "!pip install xlrd==1.2.0 "
      ],
      "metadata": {
        "colab": {
          "base_uri": "https://localhost:8080/"
        },
        "id": "MnXg-X5pRL2b",
        "outputId": "251d5143-1cd2-48b2-fd61-86e4fba8b546"
      },
      "execution_count": 3,
      "outputs": [
        {
          "output_type": "stream",
          "name": "stdout",
          "text": [
            "Looking in indexes: https://pypi.org/simple, https://us-python.pkg.dev/colab-wheels/public/simple/\n",
            "Requirement already satisfied: xlrd==1.2.0 in /usr/local/lib/python3.7/dist-packages (1.2.0)\n"
          ]
        }
      ]
    },
    {
      "cell_type": "code",
      "execution_count": 2,
      "metadata": {
        "id": "AaTB8XabYZI_"
      },
      "outputs": [],
      "source": [
        "import numpy as np\n",
        "import pandas as pd\n",
        "import matplotlib.pyplot as plt\n",
        "import os\n",
        "import seaborn as sns"
      ]
    },
    {
      "cell_type": "code",
      "source": [
        "def read_df(y, m, sheet=2): #sheet 2는 월별 무임유임 승하차 데이터, sheet3은 일별시간별 승하차데이터\n",
        "  rootdir = '/content/drive/MyDrive/DACON6/지하철 이용 정보/교통카드 통계자료' #승하차 데이터 루트 경로\n",
        "\n",
        "  sub_dirs = {} #sub_dirs[year][month]로 해당 월의 xls 파일경로를 가져올 수 있도록 딕셔너리 만듦.\n",
        "  for year in os.listdir(rootdir):\n",
        "    sub_sub_dirs = {}\n",
        "    for month in os.listdir(os.path.join(rootdir, year)):\n",
        "      sub_sub_dirs[int(month.split(' ')[1][:2])] = os.path.join(rootdir, year, month)\n",
        "    sub_dirs[int(year)] = sub_sub_dirs\n",
        "\n",
        "  df = pd.read_excel(sub_dirs[y][m], sheet_name=sheet, thousands=',')\n",
        "\n",
        "  if sheet==2:\n",
        "    df = df.drop(columns=['호선명', '역ID', '작업일시', '사용월'])\n",
        "    df = df.groupby(by='지하철역').sum()\n",
        "    df['지하철역'] = df.index\n",
        "    df.index = list(range(len(df)))\n",
        "  if sheet==3:\n",
        "    df = df.iloc[1:, 3:-1]\n",
        "    c = ['지하철역']\n",
        "    for i in range(24):\n",
        "      c.append(f'{(i+3)%24}시승차')\n",
        "      c.append(f'{(i+3)%24}시하차')\n",
        "    df.columns = c\n",
        "    temp = df['지하철역']\n",
        "    df = df[df.columns[1:]].astype('int')\n",
        "    df['지하철역'] = temp\n",
        "    df = df.groupby(by='지하철역').sum()\n",
        "    df['지하철역'] = df.index\n",
        "    df.index = list(range(len(df)))\n",
        "  return df"
      ],
      "metadata": {
        "id": "2R0bUJVFYqPD"
      },
      "execution_count": 4,
      "outputs": []
    },
    {
      "cell_type": "markdown",
      "source": [
        "2022년 5월 기준\n",
        "노인 승하차 데이터 5월까지 있음"
      ],
      "metadata": {
        "id": "Vg8zVbeCXeDC"
      }
    },
    {
      "cell_type": "markdown",
      "source": [
        "#아침/저녁 전체이용 Top 10 (승하차)"
      ],
      "metadata": {
        "id": "1uYDiC1T93vn"
      }
    },
    {
      "cell_type": "code",
      "source": [
        "#시간대별 전체 승하차\n",
        "df = read_df(2022, 5, 3)\n",
        "\n",
        "time_dict = {'아침승차':['7시승차', '8시승차'], '아침하차':['7시하차', '8시하차'], '점심승차':['14시승차','15시승차'], '점심하차':['14시하차','15시하차'], '저녁승차':['18시승차', '19시승차'], '저녁하차':['18시하차', '19시하차']}\n",
        "for s in ['아침승차', '아침하차', '점심승차', '점심하차', '저녁승차', '저녁하차']:\n",
        "  df[s] = df[time_dict[s]].mean(axis=1)\n",
        "\n",
        "#아침승하차, 저녁승하차  \n",
        "df2=df[['지하철역','아침승차','아침하차','저녁승차','저녁하차']]\n",
        "df2['아침승하차']=df2['아침승차']+df2['아침하차']\n",
        "df2['저녁승하차']=df2['저녁승차']+df2['저녁하차']"
      ],
      "metadata": {
        "colab": {
          "base_uri": "https://localhost:8080/"
        },
        "id": "i6WgVIzRbT9R",
        "outputId": "1ce6ec5b-fcf5-425e-8c48-6823795d4fb7"
      },
      "execution_count": 5,
      "outputs": [
        {
          "output_type": "stream",
          "name": "stderr",
          "text": [
            "/usr/local/lib/python3.7/dist-packages/ipykernel_launcher.py:10: SettingWithCopyWarning: \n",
            "A value is trying to be set on a copy of a slice from a DataFrame.\n",
            "Try using .loc[row_indexer,col_indexer] = value instead\n",
            "\n",
            "See the caveats in the documentation: https://pandas.pydata.org/pandas-docs/stable/user_guide/indexing.html#returning-a-view-versus-a-copy\n",
            "  # Remove the CWD from sys.path while we load stuff.\n",
            "/usr/local/lib/python3.7/dist-packages/ipykernel_launcher.py:11: SettingWithCopyWarning: \n",
            "A value is trying to be set on a copy of a slice from a DataFrame.\n",
            "Try using .loc[row_indexer,col_indexer] = value instead\n",
            "\n",
            "See the caveats in the documentation: https://pandas.pydata.org/pandas-docs/stable/user_guide/indexing.html#returning-a-view-versus-a-copy\n",
            "  # This is added back by InteractiveShellApp.init_path()\n"
          ]
        }
      ]
    },
    {
      "cell_type": "code",
      "source": [
        "#아침승하차, 저녁승하차 합계만\n",
        "df2 = df2.drop(columns=['아침승차', '아침하차', '저녁승차', '저녁하차'])"
      ],
      "metadata": {
        "id": "kxE2YRSddTIj"
      },
      "execution_count": 6,
      "outputs": []
    },
    {
      "cell_type": "code",
      "source": [
        "#아침승하차 순위\n",
        "df2_am=(df2\n",
        "        .drop(columns=['저녁승하차'])\n",
        "        .sort_values('아침승하차',ascending=False)\n",
        "        .reset_index(drop=True)\n",
        "        .iloc[:10]\n",
        "        )\n",
        "df2_am"
      ],
      "metadata": {
        "colab": {
          "base_uri": "https://localhost:8080/",
          "height": 363
        },
        "id": "yOAIP25mdday",
        "outputId": "b60a7897-6fc3-40e5-b833-cd8b748ca9c7"
      },
      "execution_count": 7,
      "outputs": [
        {
          "output_type": "execute_result",
          "data": {
            "text/plain": [
              "       지하철역     아침승하차\n",
              "0   가산디지털단지  443185.0\n",
              "1       서울역  406143.0\n",
              "2        선릉  405862.0\n",
              "3  잠실(송파구청)  393715.0\n",
              "4        강남  385428.0\n",
              "5        역삼  350411.5\n",
              "6   구로디지털단지  347526.0\n",
              "7        신림  318129.0\n",
              "8  삼성(무역센터)  306044.0\n",
              "9       여의도  301804.0"
            ],
            "text/html": [
              "\n",
              "  <div id=\"df-3035946f-10dc-4996-be63-c6f7fdd9b9d8\">\n",
              "    <div class=\"colab-df-container\">\n",
              "      <div>\n",
              "<style scoped>\n",
              "    .dataframe tbody tr th:only-of-type {\n",
              "        vertical-align: middle;\n",
              "    }\n",
              "\n",
              "    .dataframe tbody tr th {\n",
              "        vertical-align: top;\n",
              "    }\n",
              "\n",
              "    .dataframe thead th {\n",
              "        text-align: right;\n",
              "    }\n",
              "</style>\n",
              "<table border=\"1\" class=\"dataframe\">\n",
              "  <thead>\n",
              "    <tr style=\"text-align: right;\">\n",
              "      <th></th>\n",
              "      <th>지하철역</th>\n",
              "      <th>아침승하차</th>\n",
              "    </tr>\n",
              "  </thead>\n",
              "  <tbody>\n",
              "    <tr>\n",
              "      <th>0</th>\n",
              "      <td>가산디지털단지</td>\n",
              "      <td>443185.0</td>\n",
              "    </tr>\n",
              "    <tr>\n",
              "      <th>1</th>\n",
              "      <td>서울역</td>\n",
              "      <td>406143.0</td>\n",
              "    </tr>\n",
              "    <tr>\n",
              "      <th>2</th>\n",
              "      <td>선릉</td>\n",
              "      <td>405862.0</td>\n",
              "    </tr>\n",
              "    <tr>\n",
              "      <th>3</th>\n",
              "      <td>잠실(송파구청)</td>\n",
              "      <td>393715.0</td>\n",
              "    </tr>\n",
              "    <tr>\n",
              "      <th>4</th>\n",
              "      <td>강남</td>\n",
              "      <td>385428.0</td>\n",
              "    </tr>\n",
              "    <tr>\n",
              "      <th>5</th>\n",
              "      <td>역삼</td>\n",
              "      <td>350411.5</td>\n",
              "    </tr>\n",
              "    <tr>\n",
              "      <th>6</th>\n",
              "      <td>구로디지털단지</td>\n",
              "      <td>347526.0</td>\n",
              "    </tr>\n",
              "    <tr>\n",
              "      <th>7</th>\n",
              "      <td>신림</td>\n",
              "      <td>318129.0</td>\n",
              "    </tr>\n",
              "    <tr>\n",
              "      <th>8</th>\n",
              "      <td>삼성(무역센터)</td>\n",
              "      <td>306044.0</td>\n",
              "    </tr>\n",
              "    <tr>\n",
              "      <th>9</th>\n",
              "      <td>여의도</td>\n",
              "      <td>301804.0</td>\n",
              "    </tr>\n",
              "  </tbody>\n",
              "</table>\n",
              "</div>\n",
              "      <button class=\"colab-df-convert\" onclick=\"convertToInteractive('df-3035946f-10dc-4996-be63-c6f7fdd9b9d8')\"\n",
              "              title=\"Convert this dataframe to an interactive table.\"\n",
              "              style=\"display:none;\">\n",
              "        \n",
              "  <svg xmlns=\"http://www.w3.org/2000/svg\" height=\"24px\"viewBox=\"0 0 24 24\"\n",
              "       width=\"24px\">\n",
              "    <path d=\"M0 0h24v24H0V0z\" fill=\"none\"/>\n",
              "    <path d=\"M18.56 5.44l.94 2.06.94-2.06 2.06-.94-2.06-.94-.94-2.06-.94 2.06-2.06.94zm-11 1L8.5 8.5l.94-2.06 2.06-.94-2.06-.94L8.5 2.5l-.94 2.06-2.06.94zm10 10l.94 2.06.94-2.06 2.06-.94-2.06-.94-.94-2.06-.94 2.06-2.06.94z\"/><path d=\"M17.41 7.96l-1.37-1.37c-.4-.4-.92-.59-1.43-.59-.52 0-1.04.2-1.43.59L10.3 9.45l-7.72 7.72c-.78.78-.78 2.05 0 2.83L4 21.41c.39.39.9.59 1.41.59.51 0 1.02-.2 1.41-.59l7.78-7.78 2.81-2.81c.8-.78.8-2.07 0-2.86zM5.41 20L4 18.59l7.72-7.72 1.47 1.35L5.41 20z\"/>\n",
              "  </svg>\n",
              "      </button>\n",
              "      \n",
              "  <style>\n",
              "    .colab-df-container {\n",
              "      display:flex;\n",
              "      flex-wrap:wrap;\n",
              "      gap: 12px;\n",
              "    }\n",
              "\n",
              "    .colab-df-convert {\n",
              "      background-color: #E8F0FE;\n",
              "      border: none;\n",
              "      border-radius: 50%;\n",
              "      cursor: pointer;\n",
              "      display: none;\n",
              "      fill: #1967D2;\n",
              "      height: 32px;\n",
              "      padding: 0 0 0 0;\n",
              "      width: 32px;\n",
              "    }\n",
              "\n",
              "    .colab-df-convert:hover {\n",
              "      background-color: #E2EBFA;\n",
              "      box-shadow: 0px 1px 2px rgba(60, 64, 67, 0.3), 0px 1px 3px 1px rgba(60, 64, 67, 0.15);\n",
              "      fill: #174EA6;\n",
              "    }\n",
              "\n",
              "    [theme=dark] .colab-df-convert {\n",
              "      background-color: #3B4455;\n",
              "      fill: #D2E3FC;\n",
              "    }\n",
              "\n",
              "    [theme=dark] .colab-df-convert:hover {\n",
              "      background-color: #434B5C;\n",
              "      box-shadow: 0px 1px 3px 1px rgba(0, 0, 0, 0.15);\n",
              "      filter: drop-shadow(0px 1px 2px rgba(0, 0, 0, 0.3));\n",
              "      fill: #FFFFFF;\n",
              "    }\n",
              "  </style>\n",
              "\n",
              "      <script>\n",
              "        const buttonEl =\n",
              "          document.querySelector('#df-3035946f-10dc-4996-be63-c6f7fdd9b9d8 button.colab-df-convert');\n",
              "        buttonEl.style.display =\n",
              "          google.colab.kernel.accessAllowed ? 'block' : 'none';\n",
              "\n",
              "        async function convertToInteractive(key) {\n",
              "          const element = document.querySelector('#df-3035946f-10dc-4996-be63-c6f7fdd9b9d8');\n",
              "          const dataTable =\n",
              "            await google.colab.kernel.invokeFunction('convertToInteractive',\n",
              "                                                     [key], {});\n",
              "          if (!dataTable) return;\n",
              "\n",
              "          const docLinkHtml = 'Like what you see? Visit the ' +\n",
              "            '<a target=\"_blank\" href=https://colab.research.google.com/notebooks/data_table.ipynb>data table notebook</a>'\n",
              "            + ' to learn more about interactive tables.';\n",
              "          element.innerHTML = '';\n",
              "          dataTable['output_type'] = 'display_data';\n",
              "          await google.colab.output.renderOutput(dataTable, element);\n",
              "          const docLink = document.createElement('div');\n",
              "          docLink.innerHTML = docLinkHtml;\n",
              "          element.appendChild(docLink);\n",
              "        }\n",
              "      </script>\n",
              "    </div>\n",
              "  </div>\n",
              "  "
            ]
          },
          "metadata": {},
          "execution_count": 7
        }
      ]
    },
    {
      "cell_type": "code",
      "source": [
        "sns.set(rc={\"figure.figsize\":(12, 5)})\n",
        "plt.rc('font', family='NanumBarunGothic') \n",
        "sns.barplot(x=df2_am['지하철역'],y=df2_am['아침승하차'],palette=\"mako\").set(title='아침승하차')\n",
        "plt.show()"
      ],
      "metadata": {
        "colab": {
          "base_uri": "https://localhost:8080/",
          "height": 347
        },
        "id": "FHZEp7kSrRNQ",
        "outputId": "bf4cbb00-4700-4a7b-f5e9-2399ff5ff475"
      },
      "execution_count": 8,
      "outputs": [
        {
          "output_type": "display_data",
          "data": {
            "text/plain": [
              "<Figure size 864x360 with 1 Axes>"
            ],
            "image/png": "[encoded data removed]"
          },
          "metadata": {}
        }
      ]
    },
    {
      "cell_type": "code",
      "source": [
        "#저녁승하차 순위\n",
        "df2_pm=(df2\n",
        "        .drop(columns=['아침승하차'])\n",
        "        .sort_values('저녁승하차',ascending=False)\n",
        "        .reset_index(drop=True)\n",
        "        .iloc[:10]\n",
        "        )\n",
        "df2_pm"
      ],
      "metadata": {
        "colab": {
          "base_uri": "https://localhost:8080/",
          "height": 363
        },
        "id": "36glH6Siq8s9",
        "outputId": "ad50b7d0-5e30-4376-d5fe-7d25810e5051"
      },
      "execution_count": 9,
      "outputs": [
        {
          "output_type": "execute_result",
          "data": {
            "text/plain": [
              "       지하철역     저녁승하차\n",
              "0  잠실(송파구청)  341402.5\n",
              "1      홍대입구  320919.0\n",
              "2     고속터미널  311084.5\n",
              "3        강남  282314.0\n",
              "4       서울역  247593.0\n",
              "5        신림  243278.5\n",
              "6        사당  242549.0\n",
              "7      건대입구  218499.0\n",
              "8        수원  195823.5\n",
              "9   구로디지털단지  195707.0"
            ],
            "text/html": [
              "\n",
              "  <div id=\"df-7b0247ec-026e-46e3-b0d2-6b761cbf25a9\">\n",
              "    <div class=\"colab-df-container\">\n",
              "      <div>\n",
              "<style scoped>\n",
              "    .dataframe tbody tr th:only-of-type {\n",
              "        vertical-align: middle;\n",
              "    }\n",
              "\n",
              "    .dataframe tbody tr th {\n",
              "        vertical-align: top;\n",
              "    }\n",
              "\n",
              "    .dataframe thead th {\n",
              "        text-align: right;\n",
              "    }\n",
              "</style>\n",
              "<table border=\"1\" class=\"dataframe\">\n",
              "  <thead>\n",
              "    <tr style=\"text-align: right;\">\n",
              "      <th></th>\n",
              "      <th>지하철역</th>\n",
              "      <th>저녁승하차</th>\n",
              "    </tr>\n",
              "  </thead>\n",
              "  <tbody>\n",
              "    <tr>\n",
              "      <th>0</th>\n",
              "      <td>잠실(송파구청)</td>\n",
              "      <td>341402.5</td>\n",
              "    </tr>\n",
              "    <tr>\n",
              "      <th>1</th>\n",
              "      <td>홍대입구</td>\n",
              "      <td>320919.0</td>\n",
              "    </tr>\n",
              "    <tr>\n",
              "      <th>2</th>\n",
              "      <td>고속터미널</td>\n",
              "      <td>311084.5</td>\n",
              "    </tr>\n",
              "    <tr>\n",
              "      <th>3</th>\n",
              "      <td>강남</td>\n",
              "      <td>282314.0</td>\n",
              "    </tr>\n",
              "    <tr>\n",
              "      <th>4</th>\n",
              "      <td>서울역</td>\n",
              "      <td>247593.0</td>\n",
              "    </tr>\n",
              "    <tr>\n",
              "      <th>5</th>\n",
              "      <td>신림</td>\n",
              "      <td>243278.5</td>\n",
              "    </tr>\n",
              "    <tr>\n",
              "      <th>6</th>\n",
              "      <td>사당</td>\n",
              "      <td>242549.0</td>\n",
              "    </tr>\n",
              "    <tr>\n",
              "      <th>7</th>\n",
              "      <td>건대입구</td>\n",
              "      <td>218499.0</td>\n",
              "    </tr>\n",
              "    <tr>\n",
              "      <th>8</th>\n",
              "      <td>수원</td>\n",
              "      <td>195823.5</td>\n",
              "    </tr>\n",
              "    <tr>\n",
              "      <th>9</th>\n",
              "      <td>구로디지털단지</td>\n",
              "      <td>195707.0</td>\n",
              "    </tr>\n",
              "  </tbody>\n",
              "</table>\n",
              "</div>\n",
              "      <button class=\"colab-df-convert\" onclick=\"convertToInteractive('df-7b0247ec-026e-46e3-b0d2-6b761cbf25a9')\"\n",
              "              title=\"Convert this dataframe to an interactive table.\"\n",
              "              style=\"display:none;\">\n",
              "        \n",
              "  <svg xmlns=\"http://www.w3.org/2000/svg\" height=\"24px\"viewBox=\"0 0 24 24\"\n",
              "       width=\"24px\">\n",
              "    <path d=\"M0 0h24v24H0V0z\" fill=\"none\"/>\n",
              "    <path d=\"M18.56 5.44l.94 2.06.94-2.06 2.06-.94-2.06-.94-.94-2.06-.94 2.06-2.06.94zm-11 1L8.5 8.5l.94-2.06 2.06-.94-2.06-.94L8.5 2.5l-.94 2.06-2.06.94zm10 10l.94 2.06.94-2.06 2.06-.94-2.06-.94-.94-2.06-.94 2.06-2.06.94z\"/><path d=\"M17.41 7.96l-1.37-1.37c-.4-.4-.92-.59-1.43-.59-.52 0-1.04.2-1.43.59L10.3 9.45l-7.72 7.72c-.78.78-.78 2.05 0 2.83L4 21.41c.39.39.9.59 1.41.59.51 0 1.02-.2 1.41-.59l7.78-7.78 2.81-2.81c.8-.78.8-2.07 0-2.86zM5.41 20L4 18.59l7.72-7.72 1.47 1.35L5.41 20z\"/>\n",
              "  </svg>\n",
              "      </button>\n",
              "      \n",
              "  <style>\n",
              "    .colab-df-container {\n",
              "      display:flex;\n",
              "      flex-wrap:wrap;\n",
              "      gap: 12px;\n",
              "    }\n",
              "\n",
              "    .colab-df-convert {\n",
              "      background-color: #E8F0FE;\n",
              "      border: none;\n",
              "      border-radius: 50%;\n",
              "      cursor: pointer;\n",
              "      display: none;\n",
              "      fill: #1967D2;\n",
              "      height: 32px;\n",
              "      padding: 0 0 0 0;\n",
              "      width: 32px;\n",
              "    }\n",
              "\n",
              "    .colab-df-convert:hover {\n",
              "      background-color: #E2EBFA;\n",
              "      box-shadow: 0px 1px 2px rgba(60, 64, 67, 0.3), 0px 1px 3px 1px rgba(60, 64, 67, 0.15);\n",
              "      fill: #174EA6;\n",
              "    }\n",
              "\n",
              "    [theme=dark] .colab-df-convert {\n",
              "      background-color: #3B4455;\n",
              "      fill: #D2E3FC;\n",
              "    }\n",
              "\n",
              "    [theme=dark] .colab-df-convert:hover {\n",
              "      background-color: #434B5C;\n",
              "      box-shadow: 0px 1px 3px 1px rgba(0, 0, 0, 0.15);\n",
              "      filter: drop-shadow(0px 1px 2px rgba(0, 0, 0, 0.3));\n",
              "      fill: #FFFFFF;\n",
              "    }\n",
              "  </style>\n",
              "\n",
              "      <script>\n",
              "        const buttonEl =\n",
              "          document.querySelector('#df-7b0247ec-026e-46e3-b0d2-6b761cbf25a9 button.colab-df-convert');\n",
              "        buttonEl.style.display =\n",
              "          google.colab.kernel.accessAllowed ? 'block' : 'none';\n",
              "\n",
              "        async function convertToInteractive(key) {\n",
              "          const element = document.querySelector('#df-7b0247ec-026e-46e3-b0d2-6b761cbf25a9');\n",
              "          const dataTable =\n",
              "            await google.colab.kernel.invokeFunction('convertToInteractive',\n",
              "                                                     [key], {});\n",
              "          if (!dataTable) return;\n",
              "\n",
              "          const docLinkHtml = 'Like what you see? Visit the ' +\n",
              "            '<a target=\"_blank\" href=https://colab.research.google.com/notebooks/data_table.ipynb>data table notebook</a>'\n",
              "            + ' to learn more about interactive tables.';\n",
              "          element.innerHTML = '';\n",
              "          dataTable['output_type'] = 'display_data';\n",
              "          await google.colab.output.renderOutput(dataTable, element);\n",
              "          const docLink = document.createElement('div');\n",
              "          docLink.innerHTML = docLinkHtml;\n",
              "          element.appendChild(docLink);\n",
              "        }\n",
              "      </script>\n",
              "    </div>\n",
              "  </div>\n",
              "  "
            ]
          },
          "metadata": {},
          "execution_count": 9
        }
      ]
    },
    {
      "cell_type": "code",
      "source": [
        "sns.set(rc={\"figure.figsize\":(12, 5)})\n",
        "plt.rc('font', family='NanumBarunGothic') \n",
        "sns.barplot(x=df2_pm['지하철역'],y=df2_pm['저녁승하차'],palette=\"mako\").set(title='저녁승하차')\n",
        "plt.show()"
      ],
      "metadata": {
        "colab": {
          "base_uri": "https://localhost:8080/",
          "height": 346
        },
        "id": "A1pvf1L1C_xb",
        "outputId": "1dadecee-c966-4395-ca6a-4741a6237fd4"
      },
      "execution_count": 10,
      "outputs": [
        {
          "output_type": "display_data",
          "data": {
            "text/plain": [
              "<Figure size 864x360 with 1 Axes>"
            ],
            "image/png": "[encoded data removed]"
          },
          "metadata": {}
        }
      ]
    },
    {
      "cell_type": "code",
      "source": [
        "#아침승차\n",
        "df2_am_on=(df[['지하철역','아침승차']]\n",
        "        .sort_values('아침승차',ascending=False)\n",
        "        .reset_index(drop=True)\n",
        "        .iloc[:10]\n",
        "        )\n",
        "\n",
        "sns.set(rc={\"figure.figsize\":(12, 5)})\n",
        "plt.rc('font', family='NanumBarunGothic')\n",
        "x=df2_am_on['지하철역']\n",
        "y=df2_am_on['아침승차']\n",
        "\n",
        "#색상선택\n",
        "palette = sns.color_palette(\"flare\",n_colors=10)\n",
        "palette.reverse() \n",
        "p=sns.barplot(x=x,y=y,data=df2_am_on,palette=palette).set(title='아침승차')\n",
        "\n",
        "#수치값 표시\n",
        "for i, v in enumerate(df2_am_on.index):\n",
        "    plt.text(v, y[i], y[i],                \n",
        "             fontsize = 9, \n",
        "             color='black',\n",
        "             horizontalalignment='center', \n",
        "             verticalalignment='bottom')\n",
        "plt.show()\n"
      ],
      "metadata": {
        "colab": {
          "base_uri": "https://localhost:8080/",
          "height": 346
        },
        "id": "9_EVUOQMOzP2",
        "outputId": "ec7e9ee1-1716-4813-e8ea-714322bc2703"
      },
      "execution_count": 52,
      "outputs": [
        {
          "output_type": "display_data",
          "data": {
            "text/plain": [
              "<Figure size 864x360 with 1 Axes>"
            ],
            "image/png": "[encoded data removed]"
          },
          "metadata": {}
        }
      ]
    },
    {
      "cell_type": "code",
      "source": [
        "#아침하차\n",
        "df2_am_off=(df[['지하철역','아침하차']]\n",
        "        .sort_values('아침하차',ascending=False)\n",
        "        .reset_index(drop=True)\n",
        "        .iloc[:10]\n",
        "        )\n",
        "\n",
        "sns.set(rc={\"figure.figsize\":(12, 5)})\n",
        "plt.rc('font', family='NanumBarunGothic') \n",
        "x=df2_am_off['지하철역']\n",
        "y=df2_am_off['아침하차']\n",
        "\n",
        "#색상선택\n",
        "palette = sns.color_palette(\"flare\",n_colors=10)\n",
        "palette.reverse() \n",
        "sns.barplot(x=x,y=y,data=df2_am_on,palette=palette).set(title='아침하차')\n",
        "\n",
        "#수치값 표시\n",
        "for i, v in enumerate(df2_am_off.index):\n",
        "    plt.text(v, y[i], y[i],                \n",
        "             fontsize = 9, \n",
        "             color='black',\n",
        "             horizontalalignment='center', \n",
        "             verticalalignment='bottom')\n",
        "plt.show()"
      ],
      "metadata": {
        "colab": {
          "base_uri": "https://localhost:8080/",
          "height": 346
        },
        "id": "Qu-lColLTPaB",
        "outputId": "93ff0406-0db8-443b-bfbd-cfc30aa25318"
      },
      "execution_count": 53,
      "outputs": [
        {
          "output_type": "display_data",
          "data": {
            "text/plain": [
              "<Figure size 864x360 with 1 Axes>"
            ],
            "image/png": "[encoded data removed]"
          },
          "metadata": {}
        }
      ]
    },
    {
      "cell_type": "code",
      "source": [
        "#저녁승차\n",
        "df2_pm_on=(df[['지하철역','저녁승차']]\n",
        "        .sort_values('저녁승차',ascending=False)\n",
        "        .reset_index(drop=True)\n",
        "        .iloc[:10]\n",
        "        )\n",
        "sns.set(rc={\"figure.figsize\":(12, 5)})\n",
        "plt.rc('font', family='NanumBarunGothic') \n",
        "x=df2_pm_on['지하철역']\n",
        "y=df2_pm_on['저녁승차']\n",
        "\n",
        "#색상선택\n",
        "palette = sns.color_palette(\"flare\",n_colors=10)\n",
        "palette.reverse() \n",
        "sns.barplot(x=x,y=y,data=df2_am_on,palette=palette).set(title='저녁승차')\n",
        "\n",
        "#수치값 추가\n",
        "for i, v in enumerate(df2_pm_on.index):\n",
        "    plt.text(v, y[i], y[i],                 \n",
        "             fontsize = 9, \n",
        "             color='black',\n",
        "             horizontalalignment='center', \n",
        "             verticalalignment='bottom')   \n",
        "plt.show()"
      ],
      "metadata": {
        "colab": {
          "base_uri": "https://localhost:8080/",
          "height": 346
        },
        "id": "SAuhK_PiUXbc",
        "outputId": "1a7e6258-bbf7-499a-e5f4-4ccccb5f93ab"
      },
      "execution_count": 54,
      "outputs": [
        {
          "output_type": "display_data",
          "data": {
            "text/plain": [
              "<Figure size 864x360 with 1 Axes>"
            ],
            "image/png": "[encoded data removed]"
          },
          "metadata": {}
        }
      ]
    },
    {
      "cell_type": "code",
      "source": [
        "df2_pm_off=(df[['지하철역','저녁하차']]\n",
        "        .sort_values('저녁하차',ascending=False)\n",
        "        .reset_index(drop=True)\n",
        "        .iloc[:10]\n",
        "        )\n",
        "sns.set(rc={\"figure.figsize\":(12, 5)})\n",
        "plt.rc('font', family='NanumBarunGothic') \n",
        "x=df2_pm_off['지하철역']\n",
        "y=df2_pm_off['저녁하차']\n",
        "\n",
        "#색상선택\n",
        "palette = sns.color_palette(\"flare\",n_colors=10)\n",
        "palette.reverse() \n",
        "sns.barplot(x=x,y=y,data=df2_am_on,palette=palette).set(title='저녁히차')\n",
        "\n",
        "#수치값 추가\n",
        "for i, v in enumerate(df2_pm_on.index):\n",
        "    plt.text(v, y[i], y[i],                 \n",
        "             fontsize = 9, \n",
        "             color='black',\n",
        "             horizontalalignment='center', \n",
        "             verticalalignment='bottom')  \n",
        "plt.show()"
      ],
      "metadata": {
        "colab": {
          "base_uri": "https://localhost:8080/",
          "height": 346
        },
        "id": "05sIq_vXUR_C",
        "outputId": "65cbd5a2-59c6-4fa6-dece-939c9afde68f"
      },
      "execution_count": 55,
      "outputs": [
        {
          "output_type": "display_data",
          "data": {
            "text/plain": [
              "<Figure size 864x360 with 1 Axes>"
            ],
            "image/png": "[encoded data removed]"
          },
          "metadata": {}
        }
      ]
    },
    {
      "cell_type": "markdown",
      "source": [
        "#아침/저녁 노인이용 Top10 (승하차)"
      ],
      "metadata": {
        "id": "gsx4niBY-tok"
      }
    },
    {
      "cell_type": "code",
      "source": [
        "df3=pd.read_csv('/content/drive/MyDrive/DACON6/지하철 이용 정보/서울교통공사_역별 일별 시간대별 노인 승하차인원 정보_20220531.csv',encoding='cp949')\n",
        "df3.head()"
      ],
      "metadata": {
        "id": "Pv3Ru7b191y0"
      },
      "execution_count": null,
      "outputs": []
    },
    {
      "cell_type": "code",
      "source": [
        "#월단위로 추출하기 위해 date 타입으로 바꿔줌\n",
        "df3['일자'] = pd.to_datetime(df3['일자'])"
      ],
      "metadata": {
        "id": "sRyZ-i8_AtkP"
      },
      "execution_count": 162,
      "outputs": []
    },
    {
      "cell_type": "code",
      "source": [
        "#5월 데이터 추출\n",
        "query_month = 5 \n",
        "filtered = df3.query('일자.dt.month == @query_month')\n",
        "\n",
        "#아침승하차, 저녁승하차 합계\n",
        "filtered =filtered[['역명','07시-08시','08시-09시','18시-19시','19시-20시']]\n",
        "filtered= filtered.groupby(filtered['역명']).sum()\n",
        "filtered['아침승하차']=filtered['07시-08시']+filtered['08시-09시']\n",
        "filtered['저녁승하차']=filtered['18시-19시']+filtered['19시-20시']\n",
        "filtered=filtered.drop(columns=['07시-08시','08시-09시','18시-19시','19시-20시'])\n"
      ],
      "metadata": {
        "id": "SVVTY57-B2eJ"
      },
      "execution_count": 163,
      "outputs": []
    },
    {
      "cell_type": "code",
      "source": [
        "#노인 아침승하차\n",
        "df3_am=(filtered\n",
        "        .drop(columns=['저녁승하차'])\n",
        "        .sort_values('아침승하차',ascending=False)\n",
        "        .iloc[:10]\n",
        "        )\n",
        "df3_am"
      ],
      "metadata": {
        "colab": {
          "base_uri": "https://localhost:8080/",
          "height": 394
        },
        "id": "PXHDtcqzIoHx",
        "outputId": "e9ba599c-370c-44f1-811f-363b3decae4f"
      },
      "execution_count": 164,
      "outputs": [
        {
          "output_type": "execute_result",
          "data": {
            "text/plain": [
              "            아침승하차\n",
              "역명               \n",
              "연신내       38233.0\n",
              "동대문       37379.0\n",
              "신림        36004.0\n",
              "사당        35874.0\n",
              "서울역       35229.0\n",
              "종로3가      34072.0\n",
              "수유(강북구청)  31136.0\n",
              "고속터미널     30535.0\n",
              "창동        30415.0\n",
              "쌍문        29410.0"
            ],
            "text/html": [
              "\n",
              "  <div id=\"df-e5578b96-c86d-40cd-98ac-f42581de4c41\">\n",
              "    <div class=\"colab-df-container\">\n",
              "      <div>\n",
              "<style scoped>\n",
              "    .dataframe tbody tr th:only-of-type {\n",
              "        vertical-align: middle;\n",
              "    }\n",
              "\n",
              "    .dataframe tbody tr th {\n",
              "        vertical-align: top;\n",
              "    }\n",
              "\n",
              "    .dataframe thead th {\n",
              "        text-align: right;\n",
              "    }\n",
              "</style>\n",
              "<table border=\"1\" class=\"dataframe\">\n",
              "  <thead>\n",
              "    <tr style=\"text-align: right;\">\n",
              "      <th></th>\n",
              "      <th>아침승하차</th>\n",
              "    </tr>\n",
              "    <tr>\n",
              "      <th>역명</th>\n",
              "      <th></th>\n",
              "    </tr>\n",
              "  </thead>\n",
              "  <tbody>\n",
              "    <tr>\n",
              "      <th>연신내</th>\n",
              "      <td>38233.0</td>\n",
              "    </tr>\n",
              "    <tr>\n",
              "      <th>동대문</th>\n",
              "      <td>37379.0</td>\n",
              "    </tr>\n",
              "    <tr>\n",
              "      <th>신림</th>\n",
              "      <td>36004.0</td>\n",
              "    </tr>\n",
              "    <tr>\n",
              "      <th>사당</th>\n",
              "      <td>35874.0</td>\n",
              "    </tr>\n",
              "    <tr>\n",
              "      <th>서울역</th>\n",
              "      <td>35229.0</td>\n",
              "    </tr>\n",
              "    <tr>\n",
              "      <th>종로3가</th>\n",
              "      <td>34072.0</td>\n",
              "    </tr>\n",
              "    <tr>\n",
              "      <th>수유(강북구청)</th>\n",
              "      <td>31136.0</td>\n",
              "    </tr>\n",
              "    <tr>\n",
              "      <th>고속터미널</th>\n",
              "      <td>30535.0</td>\n",
              "    </tr>\n",
              "    <tr>\n",
              "      <th>창동</th>\n",
              "      <td>30415.0</td>\n",
              "    </tr>\n",
              "    <tr>\n",
              "      <th>쌍문</th>\n",
              "      <td>29410.0</td>\n",
              "    </tr>\n",
              "  </tbody>\n",
              "</table>\n",
              "</div>\n",
              "      <button class=\"colab-df-convert\" onclick=\"convertToInteractive('df-e5578b96-c86d-40cd-98ac-f42581de4c41')\"\n",
              "              title=\"Convert this dataframe to an interactive table.\"\n",
              "              style=\"display:none;\">\n",
              "        \n",
              "  <svg xmlns=\"http://www.w3.org/2000/svg\" height=\"24px\"viewBox=\"0 0 24 24\"\n",
              "       width=\"24px\">\n",
              "    <path d=\"M0 0h24v24H0V0z\" fill=\"none\"/>\n",
              "    <path d=\"M18.56 5.44l.94 2.06.94-2.06 2.06-.94-2.06-.94-.94-2.06-.94 2.06-2.06.94zm-11 1L8.5 8.5l.94-2.06 2.06-.94-2.06-.94L8.5 2.5l-.94 2.06-2.06.94zm10 10l.94 2.06.94-2.06 2.06-.94-2.06-.94-.94-2.06-.94 2.06-2.06.94z\"/><path d=\"M17.41 7.96l-1.37-1.37c-.4-.4-.92-.59-1.43-.59-.52 0-1.04.2-1.43.59L10.3 9.45l-7.72 7.72c-.78.78-.78 2.05 0 2.83L4 21.41c.39.39.9.59 1.41.59.51 0 1.02-.2 1.41-.59l7.78-7.78 2.81-2.81c.8-.78.8-2.07 0-2.86zM5.41 20L4 18.59l7.72-7.72 1.47 1.35L5.41 20z\"/>\n",
              "  </svg>\n",
              "      </button>\n",
              "      \n",
              "  <style>\n",
              "    .colab-df-container {\n",
              "      display:flex;\n",
              "      flex-wrap:wrap;\n",
              "      gap: 12px;\n",
              "    }\n",
              "\n",
              "    .colab-df-convert {\n",
              "      background-color: #E8F0FE;\n",
              "      border: none;\n",
              "      border-radius: 50%;\n",
              "      cursor: pointer;\n",
              "      display: none;\n",
              "      fill: #1967D2;\n",
              "      height: 32px;\n",
              "      padding: 0 0 0 0;\n",
              "      width: 32px;\n",
              "    }\n",
              "\n",
              "    .colab-df-convert:hover {\n",
              "      background-color: #E2EBFA;\n",
              "      box-shadow: 0px 1px 2px rgba(60, 64, 67, 0.3), 0px 1px 3px 1px rgba(60, 64, 67, 0.15);\n",
              "      fill: #174EA6;\n",
              "    }\n",
              "\n",
              "    [theme=dark] .colab-df-convert {\n",
              "      background-color: #3B4455;\n",
              "      fill: #D2E3FC;\n",
              "    }\n",
              "\n",
              "    [theme=dark] .colab-df-convert:hover {\n",
              "      background-color: #434B5C;\n",
              "      box-shadow: 0px 1px 3px 1px rgba(0, 0, 0, 0.15);\n",
              "      filter: drop-shadow(0px 1px 2px rgba(0, 0, 0, 0.3));\n",
              "      fill: #FFFFFF;\n",
              "    }\n",
              "  </style>\n",
              "\n",
              "      <script>\n",
              "        const buttonEl =\n",
              "          document.querySelector('#df-e5578b96-c86d-40cd-98ac-f42581de4c41 button.colab-df-convert');\n",
              "        buttonEl.style.display =\n",
              "          google.colab.kernel.accessAllowed ? 'block' : 'none';\n",
              "\n",
              "        async function convertToInteractive(key) {\n",
              "          const element = document.querySelector('#df-e5578b96-c86d-40cd-98ac-f42581de4c41');\n",
              "          const dataTable =\n",
              "            await google.colab.kernel.invokeFunction('convertToInteractive',\n",
              "                                                     [key], {});\n",
              "          if (!dataTable) return;\n",
              "\n",
              "          const docLinkHtml = 'Like what you see? Visit the ' +\n",
              "            '<a target=\"_blank\" href=https://colab.research.google.com/notebooks/data_table.ipynb>data table notebook</a>'\n",
              "            + ' to learn more about interactive tables.';\n",
              "          element.innerHTML = '';\n",
              "          dataTable['output_type'] = 'display_data';\n",
              "          await google.colab.output.renderOutput(dataTable, element);\n",
              "          const docLink = document.createElement('div');\n",
              "          docLink.innerHTML = docLinkHtml;\n",
              "          element.appendChild(docLink);\n",
              "        }\n",
              "      </script>\n",
              "    </div>\n",
              "  </div>\n",
              "  "
            ]
          },
          "metadata": {},
          "execution_count": 164
        }
      ]
    },
    {
      "cell_type": "code",
      "source": [
        "sns.set(rc={\"figure.figsize\":(12, 5)})\n",
        "plt.rc('font', family='NanumBarunGothic') \n",
        "sns.barplot(x=df3_am.index,y=df3_am['아침승하차'],palette=\"mako\").set(title='노인 아침승하차')\n",
        "plt.show()"
      ],
      "metadata": {
        "colab": {
          "base_uri": "https://localhost:8080/",
          "height": 349
        },
        "id": "zLEJvTUBNl84",
        "outputId": "fd92af02-f795-4195-bc05-cb34596aa300"
      },
      "execution_count": 165,
      "outputs": [
        {
          "output_type": "display_data",
          "data": {
            "text/plain": [
              "<Figure size 864x360 with 1 Axes>"
            ],
            "image/png": "[encoded data removed]"
          },
          "metadata": {}
        }
      ]
    },
    {
      "cell_type": "code",
      "source": [
        "#노인 저녁승하차\n",
        "df3_pm=(filtered\n",
        "        .drop(columns=['아침승하차'])\n",
        "        .sort_values('저녁승하차',ascending=False)\n",
        "        .iloc[:10]\n",
        "        )\n",
        "df3_pm"
      ],
      "metadata": {
        "colab": {
          "base_uri": "https://localhost:8080/",
          "height": 394
        },
        "id": "G6i-dOQoN4JG",
        "outputId": "4fdff0be-01ab-455d-c6fc-4106ec9df130"
      },
      "execution_count": 166,
      "outputs": [
        {
          "output_type": "execute_result",
          "data": {
            "text/plain": [
              "                저녁승하차\n",
              "역명                   \n",
              "종로3가          72574.0\n",
              "사당            49054.0\n",
              "고속터미널         41995.0\n",
              "잠실(송파구청)      41047.0\n",
              "연신내           40644.0\n",
              "신림            37362.0\n",
              "천호(풍납토성)      36175.0\n",
              "창동            35336.0\n",
              "청량리(서울시립대입구)  34883.0\n",
              "서울역           34431.0"
            ],
            "text/html": [
              "\n",
              "  <div id=\"df-ee5ecde9-d476-4eae-8350-570f8f2c4f00\">\n",
              "    <div class=\"colab-df-container\">\n",
              "      <div>\n",
              "<style scoped>\n",
              "    .dataframe tbody tr th:only-of-type {\n",
              "        vertical-align: middle;\n",
              "    }\n",
              "\n",
              "    .dataframe tbody tr th {\n",
              "        vertical-align: top;\n",
              "    }\n",
              "\n",
              "    .dataframe thead th {\n",
              "        text-align: right;\n",
              "    }\n",
              "</style>\n",
              "<table border=\"1\" class=\"dataframe\">\n",
              "  <thead>\n",
              "    <tr style=\"text-align: right;\">\n",
              "      <th></th>\n",
              "      <th>저녁승하차</th>\n",
              "    </tr>\n",
              "    <tr>\n",
              "      <th>역명</th>\n",
              "      <th></th>\n",
              "    </tr>\n",
              "  </thead>\n",
              "  <tbody>\n",
              "    <tr>\n",
              "      <th>종로3가</th>\n",
              "      <td>72574.0</td>\n",
              "    </tr>\n",
              "    <tr>\n",
              "      <th>사당</th>\n",
              "      <td>49054.0</td>\n",
              "    </tr>\n",
              "    <tr>\n",
              "      <th>고속터미널</th>\n",
              "      <td>41995.0</td>\n",
              "    </tr>\n",
              "    <tr>\n",
              "      <th>잠실(송파구청)</th>\n",
              "      <td>41047.0</td>\n",
              "    </tr>\n",
              "    <tr>\n",
              "      <th>연신내</th>\n",
              "      <td>40644.0</td>\n",
              "    </tr>\n",
              "    <tr>\n",
              "      <th>신림</th>\n",
              "      <td>37362.0</td>\n",
              "    </tr>\n",
              "    <tr>\n",
              "      <th>천호(풍납토성)</th>\n",
              "      <td>36175.0</td>\n",
              "    </tr>\n",
              "    <tr>\n",
              "      <th>창동</th>\n",
              "      <td>35336.0</td>\n",
              "    </tr>\n",
              "    <tr>\n",
              "      <th>청량리(서울시립대입구)</th>\n",
              "      <td>34883.0</td>\n",
              "    </tr>\n",
              "    <tr>\n",
              "      <th>서울역</th>\n",
              "      <td>34431.0</td>\n",
              "    </tr>\n",
              "  </tbody>\n",
              "</table>\n",
              "</div>\n",
              "      <button class=\"colab-df-convert\" onclick=\"convertToInteractive('df-ee5ecde9-d476-4eae-8350-570f8f2c4f00')\"\n",
              "              title=\"Convert this dataframe to an interactive table.\"\n",
              "              style=\"display:none;\">\n",
              "        \n",
              "  <svg xmlns=\"http://www.w3.org/2000/svg\" height=\"24px\"viewBox=\"0 0 24 24\"\n",
              "       width=\"24px\">\n",
              "    <path d=\"M0 0h24v24H0V0z\" fill=\"none\"/>\n",
              "    <path d=\"M18.56 5.44l.94 2.06.94-2.06 2.06-.94-2.06-.94-.94-2.06-.94 2.06-2.06.94zm-11 1L8.5 8.5l.94-2.06 2.06-.94-2.06-.94L8.5 2.5l-.94 2.06-2.06.94zm10 10l.94 2.06.94-2.06 2.06-.94-2.06-.94-.94-2.06-.94 2.06-2.06.94z\"/><path d=\"M17.41 7.96l-1.37-1.37c-.4-.4-.92-.59-1.43-.59-.52 0-1.04.2-1.43.59L10.3 9.45l-7.72 7.72c-.78.78-.78 2.05 0 2.83L4 21.41c.39.39.9.59 1.41.59.51 0 1.02-.2 1.41-.59l7.78-7.78 2.81-2.81c.8-.78.8-2.07 0-2.86zM5.41 20L4 18.59l7.72-7.72 1.47 1.35L5.41 20z\"/>\n",
              "  </svg>\n",
              "      </button>\n",
              "      \n",
              "  <style>\n",
              "    .colab-df-container {\n",
              "      display:flex;\n",
              "      flex-wrap:wrap;\n",
              "      gap: 12px;\n",
              "    }\n",
              "\n",
              "    .colab-df-convert {\n",
              "      background-color: #E8F0FE;\n",
              "      border: none;\n",
              "      border-radius: 50%;\n",
              "      cursor: pointer;\n",
              "      display: none;\n",
              "      fill: #1967D2;\n",
              "      height: 32px;\n",
              "      padding: 0 0 0 0;\n",
              "      width: 32px;\n",
              "    }\n",
              "\n",
              "    .colab-df-convert:hover {\n",
              "      background-color: #E2EBFA;\n",
              "      box-shadow: 0px 1px 2px rgba(60, 64, 67, 0.3), 0px 1px 3px 1px rgba(60, 64, 67, 0.15);\n",
              "      fill: #174EA6;\n",
              "    }\n",
              "\n",
              "    [theme=dark] .colab-df-convert {\n",
              "      background-color: #3B4455;\n",
              "      fill: #D2E3FC;\n",
              "    }\n",
              "\n",
              "    [theme=dark] .colab-df-convert:hover {\n",
              "      background-color: #434B5C;\n",
              "      box-shadow: 0px 1px 3px 1px rgba(0, 0, 0, 0.15);\n",
              "      filter: drop-shadow(0px 1px 2px rgba(0, 0, 0, 0.3));\n",
              "      fill: #FFFFFF;\n",
              "    }\n",
              "  </style>\n",
              "\n",
              "      <script>\n",
              "        const buttonEl =\n",
              "          document.querySelector('#df-ee5ecde9-d476-4eae-8350-570f8f2c4f00 button.colab-df-convert');\n",
              "        buttonEl.style.display =\n",
              "          google.colab.kernel.accessAllowed ? 'block' : 'none';\n",
              "\n",
              "        async function convertToInteractive(key) {\n",
              "          const element = document.querySelector('#df-ee5ecde9-d476-4eae-8350-570f8f2c4f00');\n",
              "          const dataTable =\n",
              "            await google.colab.kernel.invokeFunction('convertToInteractive',\n",
              "                                                     [key], {});\n",
              "          if (!dataTable) return;\n",
              "\n",
              "          const docLinkHtml = 'Like what you see? Visit the ' +\n",
              "            '<a target=\"_blank\" href=https://colab.research.google.com/notebooks/data_table.ipynb>data table notebook</a>'\n",
              "            + ' to learn more about interactive tables.';\n",
              "          element.innerHTML = '';\n",
              "          dataTable['output_type'] = 'display_data';\n",
              "          await google.colab.output.renderOutput(dataTable, element);\n",
              "          const docLink = document.createElement('div');\n",
              "          docLink.innerHTML = docLinkHtml;\n",
              "          element.appendChild(docLink);\n",
              "        }\n",
              "      </script>\n",
              "    </div>\n",
              "  </div>\n",
              "  "
            ]
          },
          "metadata": {},
          "execution_count": 166
        }
      ]
    },
    {
      "cell_type": "code",
      "source": [
        "sns.set(rc={\"figure.figsize\":(12, 5)})\n",
        "plt.rc('font', family='NanumBarunGothic') \n",
        "sns.barplot(x=df3_pm.index,y=df3_pm['저녁승하차'],palette=\"mako\").set(title='노인 저녁승하차')\n",
        "plt.show()"
      ],
      "metadata": {
        "colab": {
          "base_uri": "https://localhost:8080/",
          "height": 349
        },
        "id": "3Uj9VxAjPAjn",
        "outputId": "d6aa912a-6fe2-4174-fe72-3a1b52b4489c"
      },
      "execution_count": 167,
      "outputs": [
        {
          "output_type": "display_data",
          "data": {
            "text/plain": [
              "<Figure size 864x360 with 1 Axes>"
            ],
            "image/png": "[encoded data removed]"
          },
          "metadata": {}
        }
      ]
    },
    {
      "cell_type": "markdown",
      "source": [
        "#우대권 사용 Top10"
      ],
      "metadata": {
        "id": "zJZwAj2TVAZa"
      }
    },
    {
      "cell_type": "code",
      "source": [
        "df4=pd.read_csv('/content/drive/MyDrive/DACON6/지하철 이용 정보/서울교통공사_권종별 승차인원_20220531.csv',encoding='cp949')\n",
        "df4.head()"
      ],
      "metadata": {
        "id": "MBNv1pkhPhw3"
      },
      "execution_count": null,
      "outputs": []
    },
    {
      "cell_type": "code",
      "source": [
        "df4=(df4[['역명','5월우대권']]\n",
        "    .sort_values('5월우대권',ascending=False)\n",
        "    .reset_index(drop=True)\n",
        "    .iloc[:10]\n",
        "    )\n",
        "df4"
      ],
      "metadata": {
        "colab": {
          "base_uri": "https://localhost:8080/",
          "height": 363
        },
        "id": "XO6HSo4oVSUO",
        "outputId": "e26d6f1a-c899-4828-d1a3-36f89daf7152"
      },
      "execution_count": 177,
      "outputs": [
        {
          "output_type": "execute_result",
          "data": {
            "text/plain": [
              "        역명   5월우대권\n",
              "0  종로3가(1)  311427\n",
              "1      제기동  278052\n",
              "2     종로5가  264996\n",
              "3      청량리  263148\n",
              "4   연신내(3)  261815\n",
              "5       신림  230226\n",
              "6   서울역(1)  205682\n",
              "7       선릉  205212\n",
              "8    사당(2)  203533\n",
              "9       회현  203335"
            ],
            "text/html": [
              "\n",
              "  <div id=\"df-1c3eadd3-dbd9-4234-93bf-d78779e87896\">\n",
              "    <div class=\"colab-df-container\">\n",
              "      <div>\n",
              "<style scoped>\n",
              "    .dataframe tbody tr th:only-of-type {\n",
              "        vertical-align: middle;\n",
              "    }\n",
              "\n",
              "    .dataframe tbody tr th {\n",
              "        vertical-align: top;\n",
              "    }\n",
              "\n",
              "    .dataframe thead th {\n",
              "        text-align: right;\n",
              "    }\n",
              "</style>\n",
              "<table border=\"1\" class=\"dataframe\">\n",
              "  <thead>\n",
              "    <tr style=\"text-align: right;\">\n",
              "      <th></th>\n",
              "      <th>역명</th>\n",
              "      <th>5월우대권</th>\n",
              "    </tr>\n",
              "  </thead>\n",
              "  <tbody>\n",
              "    <tr>\n",
              "      <th>0</th>\n",
              "      <td>종로3가(1)</td>\n",
              "      <td>311427</td>\n",
              "    </tr>\n",
              "    <tr>\n",
              "      <th>1</th>\n",
              "      <td>제기동</td>\n",
              "      <td>278052</td>\n",
              "    </tr>\n",
              "    <tr>\n",
              "      <th>2</th>\n",
              "      <td>종로5가</td>\n",
              "      <td>264996</td>\n",
              "    </tr>\n",
              "    <tr>\n",
              "      <th>3</th>\n",
              "      <td>청량리</td>\n",
              "      <td>263148</td>\n",
              "    </tr>\n",
              "    <tr>\n",
              "      <th>4</th>\n",
              "      <td>연신내(3)</td>\n",
              "      <td>261815</td>\n",
              "    </tr>\n",
              "    <tr>\n",
              "      <th>5</th>\n",
              "      <td>신림</td>\n",
              "      <td>230226</td>\n",
              "    </tr>\n",
              "    <tr>\n",
              "      <th>6</th>\n",
              "      <td>서울역(1)</td>\n",
              "      <td>205682</td>\n",
              "    </tr>\n",
              "    <tr>\n",
              "      <th>7</th>\n",
              "      <td>선릉</td>\n",
              "      <td>205212</td>\n",
              "    </tr>\n",
              "    <tr>\n",
              "      <th>8</th>\n",
              "      <td>사당(2)</td>\n",
              "      <td>203533</td>\n",
              "    </tr>\n",
              "    <tr>\n",
              "      <th>9</th>\n",
              "      <td>회현</td>\n",
              "      <td>203335</td>\n",
              "    </tr>\n",
              "  </tbody>\n",
              "</table>\n",
              "</div>\n",
              "      <button class=\"colab-df-convert\" onclick=\"convertToInteractive('df-1c3eadd3-dbd9-4234-93bf-d78779e87896')\"\n",
              "              title=\"Convert this dataframe to an interactive table.\"\n",
              "              style=\"display:none;\">\n",
              "        \n",
              "  <svg xmlns=\"http://www.w3.org/2000/svg\" height=\"24px\"viewBox=\"0 0 24 24\"\n",
              "       width=\"24px\">\n",
              "    <path d=\"M0 0h24v24H0V0z\" fill=\"none\"/>\n",
              "    <path d=\"M18.56 5.44l.94 2.06.94-2.06 2.06-.94-2.06-.94-.94-2.06-.94 2.06-2.06.94zm-11 1L8.5 8.5l.94-2.06 2.06-.94-2.06-.94L8.5 2.5l-.94 2.06-2.06.94zm10 10l.94 2.06.94-2.06 2.06-.94-2.06-.94-.94-2.06-.94 2.06-2.06.94z\"/><path d=\"M17.41 7.96l-1.37-1.37c-.4-.4-.92-.59-1.43-.59-.52 0-1.04.2-1.43.59L10.3 9.45l-7.72 7.72c-.78.78-.78 2.05 0 2.83L4 21.41c.39.39.9.59 1.41.59.51 0 1.02-.2 1.41-.59l7.78-7.78 2.81-2.81c.8-.78.8-2.07 0-2.86zM5.41 20L4 18.59l7.72-7.72 1.47 1.35L5.41 20z\"/>\n",
              "  </svg>\n",
              "      </button>\n",
              "      \n",
              "  <style>\n",
              "    .colab-df-container {\n",
              "      display:flex;\n",
              "      flex-wrap:wrap;\n",
              "      gap: 12px;\n",
              "    }\n",
              "\n",
              "    .colab-df-convert {\n",
              "      background-color: #E8F0FE;\n",
              "      border: none;\n",
              "      border-radius: 50%;\n",
              "      cursor: pointer;\n",
              "      display: none;\n",
              "      fill: #1967D2;\n",
              "      height: 32px;\n",
              "      padding: 0 0 0 0;\n",
              "      width: 32px;\n",
              "    }\n",
              "\n",
              "    .colab-df-convert:hover {\n",
              "      background-color: #E2EBFA;\n",
              "      box-shadow: 0px 1px 2px rgba(60, 64, 67, 0.3), 0px 1px 3px 1px rgba(60, 64, 67, 0.15);\n",
              "      fill: #174EA6;\n",
              "    }\n",
              "\n",
              "    [theme=dark] .colab-df-convert {\n",
              "      background-color: #3B4455;\n",
              "      fill: #D2E3FC;\n",
              "    }\n",
              "\n",
              "    [theme=dark] .colab-df-convert:hover {\n",
              "      background-color: #434B5C;\n",
              "      box-shadow: 0px 1px 3px 1px rgba(0, 0, 0, 0.15);\n",
              "      filter: drop-shadow(0px 1px 2px rgba(0, 0, 0, 0.3));\n",
              "      fill: #FFFFFF;\n",
              "    }\n",
              "  </style>\n",
              "\n",
              "      <script>\n",
              "        const buttonEl =\n",
              "          document.querySelector('#df-1c3eadd3-dbd9-4234-93bf-d78779e87896 button.colab-df-convert');\n",
              "        buttonEl.style.display =\n",
              "          google.colab.kernel.accessAllowed ? 'block' : 'none';\n",
              "\n",
              "        async function convertToInteractive(key) {\n",
              "          const element = document.querySelector('#df-1c3eadd3-dbd9-4234-93bf-d78779e87896');\n",
              "          const dataTable =\n",
              "            await google.colab.kernel.invokeFunction('convertToInteractive',\n",
              "                                                     [key], {});\n",
              "          if (!dataTable) return;\n",
              "\n",
              "          const docLinkHtml = 'Like what you see? Visit the ' +\n",
              "            '<a target=\"_blank\" href=https://colab.research.google.com/notebooks/data_table.ipynb>data table notebook</a>'\n",
              "            + ' to learn more about interactive tables.';\n",
              "          element.innerHTML = '';\n",
              "          dataTable['output_type'] = 'display_data';\n",
              "          await google.colab.output.renderOutput(dataTable, element);\n",
              "          const docLink = document.createElement('div');\n",
              "          docLink.innerHTML = docLinkHtml;\n",
              "          element.appendChild(docLink);\n",
              "        }\n",
              "      </script>\n",
              "    </div>\n",
              "  </div>\n",
              "  "
            ]
          },
          "metadata": {},
          "execution_count": 177
        }
      ]
    },
    {
      "cell_type": "code",
      "source": [],
      "metadata": {
        "id": "wRUI2zUrIRks"
      },
      "execution_count": null,
      "outputs": []
    },
    {
      "cell_type": "code",
      "source": [
        "sns.set(rc={\"figure.figsize\":(12, 5)})\n",
        "plt.rc('font', family='NanumBarunGothic')\n",
        "palette = sns.color_palette(\"rocket\",n_colors=10)\n",
        "# palette.reverse() \n",
        "sns.barplot(x=df4['역명'],y=df4['5월우대권'],palette=palette).set(title='우대권이용')\n",
        "plt.show()"
      ],
      "metadata": {
        "colab": {
          "base_uri": "https://localhost:8080/",
          "height": 346
        },
        "id": "LwGvArf-VeFP",
        "outputId": "1bfd76d4-dee9-4514-d5a5-aba1d4e744b0"
      },
      "execution_count": 191,
      "outputs": [
        {
          "output_type": "display_data",
          "data": {
            "text/plain": [
              "<Figure size 864x360 with 1 Axes>"
            ],
            "image/png": "[encoded data removed]"
          },
          "metadata": {}
        }
      ]
    }
  ]
}